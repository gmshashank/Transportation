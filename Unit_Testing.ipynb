{
 "cells": [
  {
   "cell_type": "markdown",
   "metadata": {},
   "source": [
    "## Unit Testing with PyTest"
   ]
  },
  {
   "cell_type": "code",
   "execution_count": 15,
   "metadata": {},
   "outputs": [],
   "source": [
    "import pandas as pd\n",
    "from Transportation_packages.data import get_fremont_data\n",
    "\n",
    "def test_fremont_data():\n",
    "    data=get_fremont_data()\n",
    "    assert all(data.columns ==['Total', 'East', 'West'])\n",
    "    assert(isinstance(data.index,pd.DatetimeIndex))"
   ]
  },
  {
   "cell_type": "code",
   "execution_count": 16,
   "metadata": {},
   "outputs": [],
   "source": [
    "test_fremont_data()"
   ]
  },
  {
   "cell_type": "code",
   "execution_count": null,
   "metadata": {},
   "outputs": [],
   "source": []
  },
  {
   "cell_type": "code",
   "execution_count": null,
   "metadata": {},
   "outputs": [],
   "source": []
  },
  {
   "cell_type": "code",
   "execution_count": 22,
   "metadata": {
    "scrolled": true
   },
   "outputs": [
    {
     "data": {
      "text/html": [
       "<div>\n",
       "<style scoped>\n",
       "    .dataframe tbody tr th:only-of-type {\n",
       "        vertical-align: middle;\n",
       "    }\n",
       "\n",
       "    .dataframe tbody tr th {\n",
       "        vertical-align: top;\n",
       "    }\n",
       "\n",
       "    .dataframe thead th {\n",
       "        text-align: right;\n",
       "    }\n",
       "</style>\n",
       "<table border=\"1\" class=\"dataframe\">\n",
       "  <thead>\n",
       "    <tr style=\"text-align: right;\">\n",
       "      <th></th>\n",
       "      <th>Fremont Bridge Total</th>\n",
       "      <th>Fremont Bridge East Sidewalk</th>\n",
       "      <th>Fremont Bridge West Sidewalk</th>\n",
       "    </tr>\n",
       "    <tr>\n",
       "      <th>Date</th>\n",
       "      <th></th>\n",
       "      <th></th>\n",
       "      <th></th>\n",
       "    </tr>\n",
       "  </thead>\n",
       "  <tbody>\n",
       "    <tr>\n",
       "      <th>10/03/2012 12:00:00 AM</th>\n",
       "      <td>13.0</td>\n",
       "      <td>4.0</td>\n",
       "      <td>9.0</td>\n",
       "    </tr>\n",
       "    <tr>\n",
       "      <th>10/03/2012 01:00:00 AM</th>\n",
       "      <td>10.0</td>\n",
       "      <td>4.0</td>\n",
       "      <td>6.0</td>\n",
       "    </tr>\n",
       "    <tr>\n",
       "      <th>10/03/2012 02:00:00 AM</th>\n",
       "      <td>2.0</td>\n",
       "      <td>1.0</td>\n",
       "      <td>1.0</td>\n",
       "    </tr>\n",
       "    <tr>\n",
       "      <th>10/03/2012 03:00:00 AM</th>\n",
       "      <td>5.0</td>\n",
       "      <td>2.0</td>\n",
       "      <td>3.0</td>\n",
       "    </tr>\n",
       "    <tr>\n",
       "      <th>10/03/2012 04:00:00 AM</th>\n",
       "      <td>7.0</td>\n",
       "      <td>6.0</td>\n",
       "      <td>1.0</td>\n",
       "    </tr>\n",
       "  </tbody>\n",
       "</table>\n",
       "</div>"
      ],
      "text/plain": [
       "                        Fremont Bridge Total  ...  Fremont Bridge West Sidewalk\n",
       "Date                                          ...                              \n",
       "10/03/2012 12:00:00 AM                  13.0  ...                           9.0\n",
       "10/03/2012 01:00:00 AM                  10.0  ...                           6.0\n",
       "10/03/2012 02:00:00 AM                   2.0  ...                           1.0\n",
       "10/03/2012 03:00:00 AM                   5.0  ...                           3.0\n",
       "10/03/2012 04:00:00 AM                   7.0  ...                           1.0\n",
       "\n",
       "[5 rows x 3 columns]"
      ]
     },
     "execution_count": 22,
     "metadata": {},
     "output_type": "execute_result"
    }
   ],
   "source": [
    "# data=pd.read_csv(\"Fremont.csv\",header=0,index_col=\"Date\",parse_dates=True)\n",
    "data=pd.read_csv(\"Fremont.csv\",header=0,index_col=\"Date\")\n",
    "data.head()"
   ]
  },
  {
   "cell_type": "code",
   "execution_count": 23,
   "metadata": {},
   "outputs": [
    {
     "data": {
      "text/plain": [
       "pandas.core.indexes.base.Index"
      ]
     },
     "execution_count": 23,
     "metadata": {},
     "output_type": "execute_result"
    }
   ],
   "source": [
    "type(data.index)"
   ]
  },
  {
   "cell_type": "code",
   "execution_count": 24,
   "metadata": {},
   "outputs": [
    {
     "data": {
      "text/plain": [
       "dtype('O')"
      ]
     },
     "execution_count": 24,
     "metadata": {},
     "output_type": "execute_result"
    }
   ],
   "source": [
    "data.index.dtype"
   ]
  },
  {
   "cell_type": "code",
   "execution_count": 25,
   "metadata": {
    "scrolled": false
   },
   "outputs": [
    {
     "data": {
      "text/plain": [
       "DatetimeIndex(['2012-10-03 00:00:00', '2012-10-03 01:00:00',\n",
       "               '2012-10-03 02:00:00', '2012-10-03 03:00:00',\n",
       "               '2012-10-03 04:00:00', '2012-10-03 05:00:00',\n",
       "               '2012-10-03 06:00:00', '2012-10-03 07:00:00',\n",
       "               '2012-10-03 08:00:00', '2012-10-03 09:00:00',\n",
       "               ...\n",
       "               '2020-03-25 04:00:00', '2020-03-25 05:00:00',\n",
       "               '2020-03-25 06:00:00', '2020-03-25 07:00:00',\n",
       "               '2020-03-25 08:00:00', '2020-03-25 09:00:00',\n",
       "               '2020-03-25 10:00:00', '2020-03-25 11:00:00',\n",
       "               '2020-03-25 12:00:00', '2020-03-25 13:00:00'],\n",
       "              dtype='datetime64[ns]', name='Date', length=133406, freq=None)"
      ]
     },
     "execution_count": 25,
     "metadata": {},
     "output_type": "execute_result"
    }
   ],
   "source": [
    "pd.to_datetime(data.index)"
   ]
  },
  {
   "cell_type": "code",
   "execution_count": 31,
   "metadata": {},
   "outputs": [],
   "source": [
    "try:\n",
    "    data.index=pd.to_datetime(data.index,format=\"%m/%d/%Y %H:%M:%S %p\")\n",
    "except TypeError:\n",
    "    data.index=pd.to_datetime(data.index)"
   ]
  },
  {
   "cell_type": "code",
   "execution_count": 26,
   "metadata": {},
   "outputs": [
    {
     "data": {
      "text/plain": [
       "Index(['10/03/2012 12:00:00 AM', '10/03/2012 01:00:00 AM',\n",
       "       '10/03/2012 02:00:00 AM', '10/03/2012 03:00:00 AM',\n",
       "       '10/03/2012 04:00:00 AM', '10/03/2012 05:00:00 AM',\n",
       "       '10/03/2012 06:00:00 AM', '10/03/2012 07:00:00 AM',\n",
       "       '10/03/2012 08:00:00 AM', '10/03/2012 09:00:00 AM',\n",
       "       ...\n",
       "       '03/25/2020 04:00:00 AM', '03/25/2020 05:00:00 AM',\n",
       "       '03/25/2020 06:00:00 AM', '03/25/2020 07:00:00 AM',\n",
       "       '03/25/2020 08:00:00 AM', '03/25/2020 09:00:00 AM',\n",
       "       '03/25/2020 10:00:00 AM', '03/25/2020 11:00:00 AM',\n",
       "       '03/25/2020 12:00:00 PM', '03/25/2020 01:00:00 PM'],\n",
       "      dtype='object', name='Date', length=133406)"
      ]
     },
     "execution_count": 26,
     "metadata": {},
     "output_type": "execute_result"
    }
   ],
   "source": [
    "data.index"
   ]
  },
  {
   "cell_type": "code",
   "execution_count": null,
   "metadata": {},
   "outputs": [],
   "source": [
    "data.columns=[\"Total\",\"East\",\"West\"]"
   ]
  }
 ],
 "metadata": {
  "kernelspec": {
   "display_name": "Python 3",
   "language": "python",
   "name": "python3"
  },
  "language_info": {
   "codemirror_mode": {
    "name": "ipython",
    "version": 3
   },
   "file_extension": ".py",
   "mimetype": "text/x-python",
   "name": "python",
   "nbconvert_exporter": "python",
   "pygments_lexer": "ipython3",
   "version": "3.7.6"
  }
 },
 "nbformat": 4,
 "nbformat_minor": 4
}
